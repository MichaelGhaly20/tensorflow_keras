{
  "nbformat": 4,
  "nbformat_minor": 0,
  "metadata": {
    "colab": {
      "name": "Anomaly Detection with AutoEncoder using Tensorflow.ipynb",
      "provenance": []
    },
    "kernelspec": {
      "name": "python3",
      "display_name": "Python 3"
    },
    "language_info": {
      "name": "python"
    }
  },
  "cells": [
    {
      "cell_type": "markdown",
      "source": [
        "Autoencoder is an unsupervised neural network model that uses reconstruction error to detect anomalies or outliers. The reconstruction error is the difference between the reconstructed data and the input data.\n",
        "\n",
        "Autoencoder uses only normal data to train the model and all data to make predictions. Therefore, we expect outliers to have higher reconstruction errors because they are different from the regular data.\n",
        "\n",
        "In this article, we will use the Python Tensorflow Keras library to illustrate the process of identifying outliers using an autoencoder. To be specific, we will cover:\n",
        "\n",
        "- What is the algorithm behind autoencoder for anomaly detection?\n",
        "- How to train an autoencoder model?\n",
        "- How to set a threshold for autoencoder anomaly detection?\n",
        "- How to evaluate autoencoder anomaly detection performance?\n"
      ],
      "metadata": {
        "id": "_oa2D3JCo8Cy"
      }
    },
    {
      "cell_type": "markdown",
      "source": [
        "### **Step 1: Import Libraries**"
      ],
      "metadata": {
        "id": "tyJ6rTnWsehh"
      }
    },
    {
      "cell_type": "code",
      "execution_count": 1,
      "metadata": {
        "id": "3xhEGvSzo0k0"
      },
      "outputs": [],
      "source": [
        "# Synthetic dataset  \n",
        "from sklearn.datasets import make_classification# Data processing  \n",
        "import pandas as pd  \n",
        "import numpy as np  \n",
        "from collections import Counter# Visualization  \n",
        "import matplotlib.pyplot as plt  \n",
        "import seaborn as sns# Model and performance  \n",
        "import tensorflow as tf  \n",
        "from tensorflow.keras import layers, losses  \n",
        "from sklearn.model_selection import train_test_split  \n",
        "from sklearn.metrics import classification_report"
      ]
    },
    {
      "cell_type": "markdown",
      "source": [
        "### **Step 2: Create Dataset With Anomalies**\n",
        "Using make_classification from the sklearn library, We created two classes with the ratio between the majority class and the minority class being 0.995:0.005. 32 informative features were made as predictors. We did not include any redundant or repeated features in this dataset.\n",
        "\n"
      ],
      "metadata": {
        "id": "Lp12P2OypUzw"
      }
    },
    {
      "cell_type": "code",
      "source": [
        "# Create an imbalanced dataset  \n",
        "X, y = make_classification(n_samples=100000, n_features=32, n_informative=32,  \n",
        "                           n_redundant=0, n_repeated=0, n_classes=2,  \n",
        "                           n_clusters_per_class=1,  \n",
        "                           weights=[0.995, 0.005],  \n",
        "                           class_sep=0.5, random_state=0)"
      ],
      "metadata": {
        "id": "Zg81DRo4pOki"
      },
      "execution_count": 2,
      "outputs": []
    },
    {
      "cell_type": "markdown",
      "source": [
        "### **Step 3: Train Test Split**\n",
        "\n",
        "\n",
        "In this step, we split the dataset into 80% training data and 20% validation data. random_state ensures that we have the same train test split every time. The seed number for random_state does not have to be 42, and it can be any number."
      ],
      "metadata": {
        "id": "FXoakaXfpg1g"
      }
    },
    {
      "cell_type": "code",
      "source": [
        "# Train test split  \n",
        "X_train, X_test, y_train, y_test = train_test_split(X, y, test_size=0.2, random_state=42)# Check the number of records  \n",
        "print('The number of records in the training dataset is', X_train.shape[0])  \n",
        "print('The number of records in the test dataset is', X_test.shape[0])  \n",
        "print(f\"The training dataset has {sorted(Counter(y_train).items())[0][1]} records for the majority class and {sorted(Counter(y_train).items())[1][1]} records for the minority class.\")"
      ],
      "metadata": {
        "colab": {
          "base_uri": "https://localhost:8080/"
        },
        "id": "BGz1Lx9lpPjc",
        "outputId": "1a47336c-5cee-4bb3-8d81-3289de52b487"
      },
      "execution_count": 3,
      "outputs": [
        {
          "output_type": "stream",
          "name": "stdout",
          "text": [
            "The number of records in the training dataset is 80000\n",
            "The number of records in the test dataset is 20000\n",
            "The training dataset has 79200 records for the majority class and 800 records for the minority class.\n"
          ]
        }
      ]
    },
    {
      "cell_type": "markdown",
      "source": [
        "**Minority class data points are outliers or anomalies**"
      ],
      "metadata": {
        "id": "3FcEFl06p9vx"
      }
    },
    {
      "cell_type": "code",
      "source": [
        "X_train"
      ],
      "metadata": {
        "colab": {
          "base_uri": "https://localhost:8080/"
        },
        "id": "RobzkMBYpPf7",
        "outputId": "0ea82193-7c81-4e01-a95c-df90a8f52319"
      },
      "execution_count": 5,
      "outputs": [
        {
          "output_type": "execute_result",
          "data": {
            "text/plain": [
              "array([[-3.75949643e+00, -3.78605852e-01, -1.46362879e+00, ...,\n",
              "         2.70382420e+00,  1.78280865e+00,  2.63419776e-01],\n",
              "       [-6.32129714e+00, -2.28430570e+00, -5.14184296e-01, ...,\n",
              "        -3.08761234e+00, -2.13422351e-03,  3.06975030e+00],\n",
              "       [ 3.63680373e+00,  5.81323126e+00, -3.81501159e-01, ...,\n",
              "        -4.08324707e+00, -1.31913802e+00,  5.24207380e+00],\n",
              "       ...,\n",
              "       [ 2.11795713e+00, -6.87902640e+00, -1.34571204e+00, ...,\n",
              "         3.31142601e+00, -7.73686609e-02, -6.67414603e+00],\n",
              "       [-1.61331210e-01, -3.23563815e+00, -4.34442763e+00, ...,\n",
              "        -3.89822446e-01, -1.21105090e+00, -9.30390350e-02],\n",
              "       [ 2.21867298e-01, -1.21181512e+00, -3.19728190e+00, ...,\n",
              "         5.88137865e+00, -2.40009494e+00, -1.94711318e+00]])"
            ]
          },
          "metadata": {},
          "execution_count": 5
        }
      ]
    },
    {
      "cell_type": "markdown",
      "source": [
        "### **Step 4: Autoencoder Algorithm For Anomaly Detection**\n",
        "The autoencoder model for anomaly detection has six steps. The first three steps are for model training, and the last three steps are for model prediction.\n",
        "\n",
        "- Step 1 is the encoder step. The essential information is extracted by a neural network model in this step.\n",
        "- Step 2 is the decoder step. In this step, the model reconstructs the data using the extracted information.\n",
        "- Step 3: Iterate step 1 and step 2 to adjust the model to minimize the difference between input and reconstructed output, until we get good reconstruction results for the training dataset.\n",
        "- Step 4: Make predictions on a dataset that includes outliers.\n",
        "- Step 5: Set up a threshold for outliers/anomalies by comparing the differences between the autoencoder model reconstruction value and the actual value.\n",
        "- Step 6: Identify the data points with a difference higher than the threshold to be outliers or anomalies.\n"
      ],
      "metadata": {
        "id": "w46sYQ5YqEcg"
      }
    },
    {
      "cell_type": "markdown",
      "source": [
        "### **Step 5: Autoencoder Model Training**\n",
        "The autoencoder model trains on the normal dataset, so we must first separate the expected data from the anomaly data.\n",
        "\n",
        "Then we created the input layer, encoder layers, and decoder layers.\n",
        "\n",
        "In the input layer, we specified the shape of the dataset. Because the modeling dataset has 32 features, the shape is 32 here.\n",
        "\n",
        "The encoder consists of 3 layers with 16, 8, and 4 neurons, respectively. Note that the encoder requires the number of neurons to decrease with the layers. The last layer in the encoder is the size of the encoded representation, and it is also called the bottleneck.\n",
        "\n",
        "The decoder consists of 3 layers with 8, 16, and 32 neurons, respectively. Opposite the encoder, the decoder requires the number of neurons to increase with the layers. The output layer in the decoder has the same size as the input layer.\n",
        "\n",
        "The `relu` the activation function is used for each layer except for the decoder output layer. `relu` is a popular activation function, but you can try other activation functions and compare the model performance.\n",
        "\n",
        "After defining the input, encoder, and decoder layers, we create the autoencoder model to combine the layers.\n",
        "\n"
      ],
      "metadata": {
        "id": "crTPshtbqS-J"
      }
    },
    {
      "cell_type": "code",
      "source": [
        "# Keep only the normal data for the training dataset  \n",
        "X_train_normal = X_train[np.where(y_train == 0)]# Input layer  \n",
        "input = tf.keras.layers.Input(shape=(32,))# Encoder layers  \n",
        "encoder = tf.keras.Sequential([  \n",
        "  layers.Dense(16, activation='relu'),  \n",
        "  layers.Dense(8, activation='relu'),  \n",
        "  layers.Dense(4, activation='relu')])(input)# Decoder layers  \n",
        "decoder = tf.keras.Sequential([  \n",
        "      layers.Dense(8, activation=\"relu\"),  \n",
        "      layers.Dense(16, activation=\"relu\"),  \n",
        "      layers.Dense(32, activation=\"sigmoid\")])(encoder)# Create the autoencoder  \n",
        "autoencoder = tf.keras.Model(inputs=input, outputs=decoder)"
      ],
      "metadata": {
        "id": "ysXAmo0QpPcm"
      },
      "execution_count": 6,
      "outputs": []
    },
    {
      "cell_type": "markdown",
      "source": [
        "After defining the input, encoder, and decoder layers, we create the autoencoder model to combine the layers.\n",
        "\n",
        "After creating the autoencoder model, we compile the model with the optimizer of `adam` and the loss of `mae` (Mean Absolute Error).\n",
        "\n",
        "When fitting the autoencoder model, we can see that the input and output datasets are the same, which is the dataset that contains only the normal data points.\n",
        "\n",
        "The validation data is the testing dataset that contains both normal and anomaly data points.\n",
        "\n",
        "The `epochs` of 20 and `batch_size` of 64 mean the model uses 64 datapoints to update the weights in each iteration, and the model will go through the whole training dataset 20 times.\n",
        "\n",
        "`shuffle=True` will shuffle the dataset before each epoch.\n",
        "\n"
      ],
      "metadata": {
        "id": "pZInzwxzq6nq"
      }
    },
    {
      "cell_type": "code",
      "source": [
        "# Compile the autoencoder  \n",
        "autoencoder.compile(optimizer='adam', loss='mae')# Fit the autoencoder  \n",
        "history = autoencoder.fit(X_train_normal, X_train_normal,   \n",
        "          epochs=20,   \n",
        "          batch_size=64,  \n",
        "          validation_data=(X_test, X_test),  \n",
        "          shuffle=True)"
      ],
      "metadata": {
        "colab": {
          "base_uri": "https://localhost:8080/"
        },
        "id": "YVeHKJrapPZe",
        "outputId": "77e8c1fe-f012-49b0-a258-d619538c812b"
      },
      "execution_count": 7,
      "outputs": [
        {
          "output_type": "stream",
          "name": "stdout",
          "text": [
            "Epoch 1/20\n",
            "1238/1238 [==============================] - 4s 2ms/step - loss: 2.5342 - val_loss: 2.5039\n",
            "Epoch 2/20\n",
            "1238/1238 [==============================] - 2s 2ms/step - loss: 2.4911 - val_loss: 2.4869\n",
            "Epoch 3/20\n",
            "1238/1238 [==============================] - 2s 2ms/step - loss: 2.4792 - val_loss: 2.4808\n",
            "Epoch 4/20\n",
            "1238/1238 [==============================] - 3s 2ms/step - loss: 2.4736 - val_loss: 2.4761\n",
            "Epoch 5/20\n",
            "1238/1238 [==============================] - 2s 2ms/step - loss: 2.4695 - val_loss: 2.4724\n",
            "Epoch 6/20\n",
            "1238/1238 [==============================] - 2s 2ms/step - loss: 2.4671 - val_loss: 2.4712\n",
            "Epoch 7/20\n",
            "1238/1238 [==============================] - 3s 2ms/step - loss: 2.4656 - val_loss: 2.4692\n",
            "Epoch 8/20\n",
            "1238/1238 [==============================] - 2s 2ms/step - loss: 2.4646 - val_loss: 2.4687\n",
            "Epoch 9/20\n",
            "1238/1238 [==============================] - 3s 2ms/step - loss: 2.4637 - val_loss: 2.4672\n",
            "Epoch 10/20\n",
            "1238/1238 [==============================] - 2s 2ms/step - loss: 2.4628 - val_loss: 2.4661\n",
            "Epoch 11/20\n",
            "1238/1238 [==============================] - 2s 2ms/step - loss: 2.4621 - val_loss: 2.4658\n",
            "Epoch 12/20\n",
            "1238/1238 [==============================] - 3s 2ms/step - loss: 2.4615 - val_loss: 2.4646\n",
            "Epoch 13/20\n",
            "1238/1238 [==============================] - 3s 2ms/step - loss: 2.4607 - val_loss: 2.4639\n",
            "Epoch 14/20\n",
            "1238/1238 [==============================] - 3s 2ms/step - loss: 2.4599 - val_loss: 2.4635\n",
            "Epoch 15/20\n",
            "1238/1238 [==============================] - 2s 2ms/step - loss: 2.4594 - val_loss: 2.4624\n",
            "Epoch 16/20\n",
            "1238/1238 [==============================] - 2s 2ms/step - loss: 2.4587 - val_loss: 2.4619\n",
            "Epoch 17/20\n",
            "1238/1238 [==============================] - 3s 2ms/step - loss: 2.4583 - val_loss: 2.4613\n",
            "Epoch 18/20\n",
            "1238/1238 [==============================] - 3s 2ms/step - loss: 2.4578 - val_loss: 2.4612\n",
            "Epoch 19/20\n",
            "1238/1238 [==============================] - 3s 2ms/step - loss: 2.4572 - val_loss: 2.4612\n",
            "Epoch 20/20\n",
            "1238/1238 [==============================] - 2s 2ms/step - loss: 2.4568 - val_loss: 2.4602\n"
          ]
        }
      ]
    },
    {
      "cell_type": "markdown",
      "source": [
        "This chart visualizes the training and validation loss changes during the model fitting. The x-axis is the number of epochs, and the y-axis is the loss. We can see that both training and validation losses decrease with the increase of epochs.\n",
        "\n"
      ],
      "metadata": {
        "id": "uQtGduEVrPLp"
      }
    },
    {
      "cell_type": "code",
      "source": [
        "plt.plot(history.history[\"loss\"], label=\"Training Loss\")\n",
        "plt.plot(history.history[\"val_loss\"], label=\"Validation Loss\")\n",
        "plt.legend()"
      ],
      "metadata": {
        "colab": {
          "base_uri": "https://localhost:8080/",
          "height": 282
        },
        "id": "9jA2Sir1pPWS",
        "outputId": "40888ee1-eef2-49fd-e503-bdca014ddae8"
      },
      "execution_count": 8,
      "outputs": [
        {
          "output_type": "execute_result",
          "data": {
            "text/plain": [
              "<matplotlib.legend.Legend at 0x7f0c41221650>"
            ]
          },
          "metadata": {},
          "execution_count": 8
        },
        {
          "output_type": "display_data",
          "data": {
            "text/plain": [
              "<Figure size 432x288 with 1 Axes>"
            ],
            "image/png": "[encoded data removed]"
          },
          "metadata": {
            "needs_background": "light"
          }
        }
      ]
    },
    {
      "cell_type": "markdown",
      "source": [
        "### **Step 6: Autoencoder Anomaly Detection Threshold**\n",
        "Now that we have an autoencoder model, let’s use it to predict the outliers.\n",
        "\n",
        "Firstly, we use `.predict` to get the reconstruction value for the testing data set containing the usual data points and the outliers.\n",
        "\n",
        "Then we calculate the loss value between actual and reconstruction using mean absolute error.\n",
        "\n",
        "After that, a threshold is set to identify the outliers. This threshold can be based on percentile, standard deviation, or other methods. We use 98% loss as the threshold to identify 2% of the data as outliers in this example.\n",
        "\n"
      ],
      "metadata": {
        "id": "0GgwHM2NrrSp"
      }
    },
    {
      "cell_type": "code",
      "source": [
        "# Predict anomalies/outliers in the training dataset  \n",
        "prediction = autoencoder.predict(X_test)# Get the mean absolute error between actual and reconstruction/prediction  \n",
        "prediction_loss = tf.keras.losses.mae(prediction, X_test)# Check the prediction loss threshold for 2% of outliers  \n",
        "loss_threshold = np.percentile(prediction_loss, 98)  \n",
        "print(f'The prediction loss threshold for 2% of outliers is {loss_threshold:.2f}')# Visualize the threshold  \n",
        "sns.histplot(prediction_loss, bins=30, alpha=0.8)  \n",
        "plt.axvline(x=loss_threshold, color='orange')"
      ],
      "metadata": {
        "colab": {
          "base_uri": "https://localhost:8080/",
          "height": 300
        },
        "id": "1MAYkiuypPSw",
        "outputId": "a2cb229b-0c21-4e77-fe83-70cbba04b50f"
      },
      "execution_count": 9,
      "outputs": [
        {
          "output_type": "stream",
          "name": "stdout",
          "text": [
            "The prediction loss threshold for 2% of outliers is 3.44\n"
          ]
        },
        {
          "output_type": "execute_result",
          "data": {
            "text/plain": [
              "<matplotlib.lines.Line2D at 0x7f0c44a2d510>"
            ]
          },
          "metadata": {},
          "execution_count": 9
        },
        {
          "output_type": "display_data",
          "data": {
            "text/plain": [
              "<Figure size 432x288 with 1 Axes>"
            ],
            "image/png": "[encoded data removed]"
          },
          "metadata": {
            "needs_background": "light"
          }
        }
      ]
    },
    {
      "cell_type": "markdown",
      "source": [
        "The visualization chart shows that the prediction loss is close to a normal distribution with a mean of around 2.5. The prediction loss threshold for 2% of outliers is about 3.5.\n",
        "\n"
      ],
      "metadata": {
        "id": "ccolabK_sETS"
      }
    },
    {
      "cell_type": "markdown",
      "source": [
        "### **Step 7: Autoencoder Anomaly Detection Performance**\n",
        "Sometimes the dataset has the ground truth label for the anomalies, and the dataset often does not. When there is a label for anomalies, we can evaluate the model performance.\n",
        "\n",
        "Based on the threshold we identified in the previous step, we predicted normal data points if the prediction loss is less than the threshold. Otherwise, we predict the data point to be an outlier or anomaly. We label the normal prediction 0 and outlier prediction 1 to be consistent with the ground truth label."
      ],
      "metadata": {
        "id": "NqzUnJ4osGaQ"
      }
    },
    {
      "cell_type": "code",
      "source": [
        "# Check the model performance at 2% threshold  \n",
        "threshold_prediction = [0 if i < loss_threshold else 1 for i in prediction_loss]# # Check the prediction performance  \n",
        "print(classification_report(y_test, threshold_prediction))"
      ],
      "metadata": {
        "colab": {
          "base_uri": "https://localhost:8080/"
        },
        "id": "5v3a_uYkrw75",
        "outputId": "bf09d456-a071-4d9e-b343-3a733223cc70"
      },
      "execution_count": 10,
      "outputs": [
        {
          "output_type": "stream",
          "name": "stdout",
          "text": [
            "              precision    recall  f1-score   support\n",
            "\n",
            "           0       0.99      0.98      0.98     19803\n",
            "           1       0.01      0.01      0.01       197\n",
            "\n",
            "    accuracy                           0.97     20000\n",
            "   macro avg       0.50      0.50      0.50     20000\n",
            "weighted avg       0.98      0.97      0.98     20000\n",
            "\n"
          ]
        }
      ]
    },
    {
      "cell_type": "markdown",
      "source": [
        "The recall value of 0.01 shows that around 1% of the outliers were captured by the autoencoder.\n",
        "\n"
      ],
      "metadata": {
        "id": "SU0AVra6sV3x"
      }
    }
  ]
}